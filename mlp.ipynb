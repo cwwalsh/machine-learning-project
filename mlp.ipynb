{
  "nbformat": 4,
  "nbformat_minor": 0,
  "metadata": {
    "language_info": {
      "codemirror_mode": {
        "name": "ipython",
        "version": 3
      },
      "file_extension": ".py",
      "mimetype": "text/x-python",
      "name": "python",
      "nbconvert_exporter": "python",
      "pygments_lexer": "ipython3",
      "version": "3.8.5-final"
    },
    "orig_nbformat": 2,
    "kernelspec": {
      "name": "python3",
      "display_name": "Python 3",
      "language": "python"
    },
    "colab": {
      "name": "tensor.ipynb",
      "provenance": [],
      "collapsed_sections": []
    }
  },
  "cells": [
    {
      "cell_type": "code",
      "metadata": {
        "id": "VcxvchT-VmcH",
        "colab": {
          "base_uri": "https://localhost:8080/",
          "height": 1000
        },
        "outputId": "c1becbcb-2927-4fd8-cf42-eea9bd85060a"
      },
      "source": [
        "import pandas as pd\n",
        "import numpy as np\n",
        "from sklearn import preprocessing\n",
        "from sklearn.neural_network import MLPClassifier\n",
        "from sklearn.metrics import confusion_matrix, classification_report\n",
        "from sklearn.model_selection import train_test_split\n",
        "from imblearn.over_sampling import RandomOverSampler\n",
        "from imblearn.under_sampling import RandomUnderSampler\n",
        "from collections import Counter\n",
        "\n",
        "pd.options.mode.chained_assignment = 'warn'\n",
        "\n",
        "UNREST_COLUMNS = [\"EVENT_ID_CNTY\", \n",
        "                    \"EVENT_DATE\", \n",
        "                    \"EVENT_TYPE\", \n",
        "                    \"REGION\", \n",
        "                \"FATALITIES\",\n",
        "                \"TIMESTAMP\"]\n",
        "\n",
        "CASES_COLUMNS = [\"iso_code\",\n",
        "                \"continent\",\n",
        "                \"location\", \n",
        "                \"date\", \n",
        "                \"total_cases\", \n",
        "                \"new_cases\", \n",
        "                \"total_deaths\", \n",
        "                \"reproduction_rate\", \n",
        "                \"hosp_patients\", \n",
        "                \"positive_rate\", \n",
        "                \"stringency_index\", \n",
        "                \"population\",\n",
        "                \"median_age\",\n",
        "                \"gdp_per_capita\",\n",
        "                \"life_expectancy\",\n",
        "            ]\n",
        "\n",
        "def serialize(dataFrame, column):\n",
        "    return [x for x in range(len(dataFrame.loc[:, column].unique()))]\n",
        "\n",
        "def replaceDict(dataFrame, column):\n",
        "    vals = serialize(dataFrame, column)\n",
        "    return dict(zip(dataFrame.loc[:, column].unique(), vals))\n",
        "\n",
        "def multiSearch(df, column, searchTerms):\n",
        "    if type(searchTerms) is list:\n",
        "        return df.query(' | '.join(\n",
        "            [f'{column} == \"{term}\"' for term in searchTerms]\n",
        "        ))\n",
        "    elif type(searchTerms) is str:\n",
        "        return df.query(f'{column} == \"{searchTerms}\"')\n",
        "    else:\n",
        "        return df.query(f'{column} == {searchTerms}')\n",
        "\n",
        "def multiContains(df, column, searchTerms):\n",
        "    if type(searchTerms) is list:\n",
        "        return df[df.loc[:, column].str.contains('|'.join(searchTerms))]\n",
        "    else:\n",
        "        return df[df.loc[:, column].str.contains(searchTerms)]\n",
        "\n",
        "#Create the training data set of merged PD's and the result\n",
        "def retrieveTrainingData(isoCodes=None):\n",
        "    unrest_df = pd.read_csv(\"./coronavirus_Oct31.csv\")\n",
        "    unrest_df = unrest_df[unrest_df.loc[:, \"EVENT_TYPE\"] != 'Strategic developments']\n",
        " \n",
        "    covid_cases_df = pd.read_csv(\"./owid-covid-data.csv\")\n",
        "    covid_cases_df = covid_cases_df[covid_cases_df.loc[:, \"iso_code\"] != \"OWID_WRL\"]\n",
        "    covid_cases_df.dropna() \n",
        "\n",
        "    classes = unrest_df.EVENT_TYPE.unique()\n",
        "    print(classes)\n",
        "\n",
        "    unrest_df = unrest_df.loc[:, unrest_df.columns.intersection(UNREST_COLUMNS)]\n",
        "    covid_cases_df = covid_cases_df.loc[:, covid_cases_df.columns.intersection(CASES_COLUMNS)]\n",
        "\n",
        "    if (isoCodes == None):\n",
        "      unrest = unrest_df\n",
        "      cases = covid_cases_df\n",
        "    else:\n",
        "      unrest = multiContains(unrest_df, \"EVENT_ID_CNTY\", isoCodes)\n",
        "      cases = multiSearch(covid_cases_df, 'iso_code', isoCodes)\n",
        "\n",
        "    unrest.loc[:, \"EVENT_DATE\"] = pd.to_datetime(unrest.loc[:, \"EVENT_DATE\"])\n",
        "    cases.loc[:, \"date\"] = pd.to_datetime(cases.loc[:, \"date\"]) \n",
        "\n",
        "    merge = unrest.merge(cases, how=\"inner\", left_on=\"EVENT_DATE\", right_on=\"date\")\n",
        "\n",
        "    merge = merge.drop(['EVENT_ID_CNTY'], axis=1)\n",
        "    merge = merge.drop_duplicates()\n",
        "\n",
        "    issueType = merge['EVENT_TYPE']\n",
        "    issueType = issueType.replace(replaceDict(unrest_df, \"EVENT_TYPE\"))\n",
        "\n",
        "    merge = merge.drop(['EVENT_TYPE', 'EVENT_DATE', 'REGION', 'iso_code', 'continent', 'location', 'date', 'TIMESTAMP', \"FATALITIES\"], axis=1).fillna(0)\n",
        "\n",
        "    return merge, issueType, classes\n",
        "\n",
        "data, target, classes = retrieveTrainingData()\n",
        "\n",
        "total_value = zip(data, target)\n",
        "\n",
        "#the data is fairly imbalanced so use random overfitting first to incrase ratios of minor classes\n",
        "total_value = zip(data, target)\n",
        "\n",
        "x_train, x_test, y_train, y_test = train_test_split(data, target, test_size=0.2)\n",
        "model = MLPClassifier(hidden_layer_sizes=5, alpha=1.0/5).fit(x_train, y_train)\n",
        "y_train_pred = model.predict(x_train)\n",
        "y_test_pred = model.predict(x_test)\n",
        "\n",
        "print(\"training\\n\", classification_report(y_train, y_train_pred))\n",
        "print(confusion_matrix(y_train, y_train_pred))\n",
        "\n",
        "print(\"test\\n\", classification_report(y_test, y_test_pred))\n",
        "print(confusion_matrix(y_test, y_test_pred))\n"
      ],
      "execution_count": 10,
      "outputs": [
        {
          "output_type": "stream",
          "name": "stdout",
          "text": [
            "['Protests' 'Riots' 'Battles' 'Violence against civilians'\n 'Explosions/Remote violence']\n0     1\n1     1\n2     0\n3     0\n4     0\n5     0\n6     0\n7     0\n8     0\n9     0\n10    1\n11    1\n12    0\n13    0\n14    0\n15    0\n16    0\n17    0\n18    2\n19    2\nName: EVENT_TYPE, dtype: int64\ntraining\n               precision    recall  f1-score   support\n\n           0       0.62      1.00      0.77        10\n           1       0.00      0.00      0.00         4\n           2       0.00      0.00      0.00         2\n\n    accuracy                           0.62        16\n   macro avg       0.21      0.33      0.26        16\nweighted avg       0.39      0.62      0.48        16\n\n[[10  0  0]\n [ 4  0  0]\n [ 2  0  0]]\ntest\n               precision    recall  f1-score   support\n\n           0       1.00      1.00      1.00         4\n\n    accuracy                           1.00         4\n   macro avg       1.00      1.00      1.00         4\nweighted avg       1.00      1.00      1.00         4\n\n[[4]]\n"
          ]
        }
      ]
    },
    {
      "cell_type": "code",
      "execution_count": 11,
      "metadata": {},
      "outputs": [
        {
          "output_type": "error",
          "ename": "ModuleNotFoundError",
          "evalue": "No module named 'matplotlib'",
          "traceback": [
            "\u001b[0;31m---------------------------------------------------------------------------\u001b[0m",
            "\u001b[0;31mModuleNotFoundError\u001b[0m                       Traceback (most recent call last)",
            "\u001b[0;32m<ipython-input-11-e758ed030072>\u001b[0m in \u001b[0;36m<module>\u001b[0;34m\u001b[0m\n\u001b[0;32m----> 1\u001b[0;31m \u001b[0;32mimport\u001b[0m \u001b[0mmatplotlib\u001b[0m\u001b[0;34m.\u001b[0m\u001b[0mpyplot\u001b[0m \u001b[0;32mas\u001b[0m \u001b[0mplt\u001b[0m\u001b[0;34m\u001b[0m\u001b[0;34m\u001b[0m\u001b[0m\n\u001b[0m\u001b[1;32m      2\u001b[0m \u001b[0;34m\u001b[0m\u001b[0m\n\u001b[1;32m      3\u001b[0m \u001b[0;31m# plt.rc()\u001b[0m\u001b[0;34m\u001b[0m\u001b[0;34m\u001b[0m\u001b[0;34m\u001b[0m\u001b[0m\n",
            "\u001b[0;31mModuleNotFoundError\u001b[0m: No module named 'matplotlib'"
          ]
        }
      ],
      "source": [
        "import matplotlib.pyplot as plt\n",
        "\n",
        "# plt.rc()"
      ]
    },
    {
      "cell_type": "code",
      "execution_count": null,
      "metadata": {},
      "outputs": [],
      "source": []
    }
  ]
}