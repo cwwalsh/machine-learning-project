{
 "metadata": {
  "language_info": {
   "codemirror_mode": {
    "name": "ipython",
    "version": 3
   },
   "file_extension": ".py",
   "mimetype": "text/x-python",
   "name": "python",
   "nbconvert_exporter": "python",
   "pygments_lexer": "ipython3",
   "version": "3.6.9-final"
  },
  "orig_nbformat": 2,
  "kernelspec": {
   "name": "python3",
   "display_name": "Python 3"
  }
 },
 "nbformat": 4,
 "nbformat_minor": 2,
 "cells": [
  {
   "cell_type": "code",
   "execution_count": 1,
   "metadata": {},
   "outputs": [
    {
     "output_type": "stream",
     "name": "stdout",
     "text": [
      "    FATALITIES  total_cases  new_cases  total_deaths  reproduction_rate  \\\n0            0         24.0        0.0           0.0               0.00   \n1            0         42.0        2.0           1.0               0.00   \n2            0         42.0        2.0           1.0               0.00   \n3            0         42.0        2.0           1.0               0.00   \n4            0         75.0       33.0           1.0               0.00   \n5            0         75.0       33.0           1.0               0.00   \n6            0         75.0        0.0           1.0               0.00   \n7            0         91.0       16.0           2.0               1.42   \n8            0        114.0        8.0           4.0               1.44   \n9            0        114.0        8.0           4.0               1.44   \n10           0        141.0       27.0           4.0               1.44   \n11           0        367.0       30.0          11.0               1.42   \n12           0        423.0       56.0          14.0               1.41   \n13           0        521.0       37.0          15.0               1.41   \n14           0        555.0       34.0          18.0               1.41   \n15           0        714.0       49.0          23.0               1.41   \n16           0       1031.0       35.0          35.0               1.41   \n17           0       1031.0       35.0          35.0               1.41   \n18           0       1092.0       61.0          36.0               1.42   \n19           0       1176.0       84.0          40.0               1.42   \n20           0       1703.0      172.0          57.0               1.43   \n21           0       2335.0      164.0          68.0               1.42   \n22           0       2894.0      190.0          90.0               1.41   \n23           0       2894.0      190.0          90.0               1.41   \n24           0       2894.0      190.0          90.0               1.41   \n25           0       3224.0      330.0          95.0               1.40   \n26           0       3392.0      168.0         104.0               1.39   \n27           0       3778.0      215.0         109.0               1.38   \n28           6       3778.0      215.0         109.0               1.38   \n29           0      14525.0      866.0         249.0               1.17   \n30           0      29715.0      234.0         639.0               0.86   \n31           0      33594.0      210.0         936.0               0.81   \n32          22      36471.0        0.0        1271.0               0.80   \n\n    hosp_patients  positive_rate  stringency_index  population  median_age  \\\n0             0.0            0.0             41.67  38928341.0        18.6   \n1             0.0            0.0             59.26  38928341.0        18.6   \n2             0.0            0.0             59.26  38928341.0        18.6   \n3             0.0            0.0             59.26  38928341.0        18.6   \n4             0.0            0.0             59.26  38928341.0        18.6   \n5             0.0            0.0             59.26  38928341.0        18.6   \n6             0.0            0.0             59.26  38928341.0        18.6   \n7             0.0            0.0             67.59  38928341.0        18.6   \n8             0.0            0.0             67.59  38928341.0        18.6   \n9             0.0            0.0             67.59  38928341.0        18.6   \n10            0.0            0.0             67.59  38928341.0        18.6   \n11            0.0            0.0             78.70  38928341.0        18.6   \n12            0.0            0.0             78.70  38928341.0        18.6   \n13            0.0            0.0             78.70  38928341.0        18.6   \n14            0.0            0.0             84.26  38928341.0        18.6   \n15            0.0            0.0             84.26  38928341.0        18.6   \n16            0.0            0.0             84.26  38928341.0        18.6   \n17            0.0            0.0             84.26  38928341.0        18.6   \n18            0.0            0.0             84.26  38928341.0        18.6   \n19            0.0            0.0             84.26  38928341.0        18.6   \n20            0.0            0.0             84.26  38928341.0        18.6   \n21            0.0            0.0             84.26  38928341.0        18.6   \n22            0.0            0.0             84.26  38928341.0        18.6   \n23            0.0            0.0             84.26  38928341.0        18.6   \n24            0.0            0.0             84.26  38928341.0        18.6   \n25            0.0            0.0             84.26  38928341.0        18.6   \n26            0.0            0.0             84.26  38928341.0        18.6   \n27            0.0            0.0             84.26  38928341.0        18.6   \n28            0.0            0.0             84.26  38928341.0        18.6   \n29            0.0            0.0             84.26  38928341.0        18.6   \n30            0.0            0.0             78.70  38928341.0        18.6   \n31            0.0            0.0             78.70  38928341.0        18.6   \n32            0.0            0.0             78.70  38928341.0        18.6   \n\n    gdp_per_capita  life_expectancy  \n0         1803.987            64.83  \n1         1803.987            64.83  \n2         1803.987            64.83  \n3         1803.987            64.83  \n4         1803.987            64.83  \n5         1803.987            64.83  \n6         1803.987            64.83  \n7         1803.987            64.83  \n8         1803.987            64.83  \n9         1803.987            64.83  \n10        1803.987            64.83  \n11        1803.987            64.83  \n12        1803.987            64.83  \n13        1803.987            64.83  \n14        1803.987            64.83  \n15        1803.987            64.83  \n16        1803.987            64.83  \n17        1803.987            64.83  \n18        1803.987            64.83  \n19        1803.987            64.83  \n20        1803.987            64.83  \n21        1803.987            64.83  \n22        1803.987            64.83  \n23        1803.987            64.83  \n24        1803.987            64.83  \n25        1803.987            64.83  \n26        1803.987            64.83  \n27        1803.987            64.83  \n28        1803.987            64.83  \n29        1803.987            64.83  \n30        1803.987            64.83  \n31        1803.987            64.83  \n32        1803.987            64.83  \n"
     ]
    },
    {
     "output_type": "execute_result",
     "data": {
      "text/plain": [
       "array([0, 0, 0, 0, 0, 0, 0, 0, 0, 0, 0, 0, 0, 0, 0, 0, 0, 0, 0, 0, 0, 0,\n",
       "       0, 0, 0, 0, 0, 0, 0, 1, 1, 1, 3])"
      ]
     },
     "metadata": {},
     "execution_count": 1
    }
   ],
   "source": [
    "import pandas as pd\n",
    "from sklearn import preprocessing\n",
    "from sklearn import svm\n",
    "\n",
    "def serialize(dataFrame, column):\n",
    "    return [x for x in range(len(dataFrame[column].unique()))]\n",
    "\n",
    "def replaceDict(dataFrame, column):\n",
    "    vals = serialize(dataFrame, column)\n",
    "    return dict(zip(dataFrame[column].unique(), vals))\n",
    "\n",
    "\n",
    "\n",
    "def multiSearch(df, column, searchTerms):\n",
    "    if type(searchTerms) is list:\n",
    "        return df.query(' | '.join(\n",
    "            [f'{column} == \"{term}\"' for term in searchTerms]\n",
    "        ))\n",
    "    elif type(searchTerms) is str:\n",
    "        return df.query(f'{column} == \"{searchTerms}\"')\n",
    "    else:\n",
    "        return df.query(f'{column} == {searchTerms}')\n",
    "\n",
    "def multiContains(df, column, searchTerms):\n",
    "    if type(searchTerms) is list:\n",
    "        return df[df[column].str.contains('|'.join(searchTerms))]\n",
    "    else:\n",
    "        return df[df[column].str.contains(searchTerms)]\n",
    "\n",
    "\n",
    "UNREST_COLUMNS = [\"EVENT_ID_CNTY\", \n",
    "                    \"EVENT_DATE\", \n",
    "                    \"EVENT_TYPE\", \n",
    "                    \"REGION\", \n",
    "                \"FATALITIES\"]\n",
    "\n",
    "CASES_COLUMNS = [\"iso_code\",\n",
    "                \"continent\",\n",
    "                \"location\", \n",
    "                \"date\", \n",
    "                \"total_cases\", \n",
    "                \"new_cases\", \n",
    "                \"total_deaths\", \n",
    "                \"reproduction_rate\", \n",
    "                \"hosp_patients\", \n",
    "                \"positive_rate\", \n",
    "                \"stringency_index\", \n",
    "                \"population\",\n",
    "                \"median_age\",\n",
    "                \"gdp_per_capita\",\n",
    "                \"life_expectancy\"\n",
    "            ]\n",
    "\n",
    "unrest_df = pd.read_csv(\"./coronavirus_Oct31.csv\")\n",
    "covid_cases_df = pd.read_csv(\"./owid-covid-data.csv\")\n",
    "\n",
    "irl_afg = multiSearch(covid_cases_df, 'iso_code', ['AFG', 'IRL'])\n",
    "\n",
    "unrest_df = unrest_df[unrest_df.columns.intersection(UNREST_COLUMNS)]\n",
    "covid_cases_df = covid_cases_df[covid_cases_df.columns.intersection(CASES_COLUMNS)]\n",
    "\n",
    "\n",
    "unrest_afg = multiContains(unrest_df,\"EVENT_ID_CNTY\",\"AFG\")\n",
    "\n",
    "cases_afg = multiSearch(covid_cases_df, 'iso_code', \"AFG\")\n",
    "\n",
    "unrest_afg.EVENT_DATE = pd.to_datetime(unrest_afg.EVENT_DATE)\n",
    "cases_afg.date = pd.to_datetime(cases_afg.date)\n",
    "\n",
    "merge = unrest_afg.merge(cases_afg, how=\"inner\", left_on=\"EVENT_DATE\", right_on=\"date\")\n",
    "\n",
    "classification = serialize(unrest_df, \"EVENT_TYPE\")\n",
    "\n",
    "issueType = unrest_afg['EVENT_TYPE']\n",
    "issueType = issueType.replace(replaceDict(unrest_df, \"EVENT_TYPE\"))\n",
    "\n",
    "merge = merge.drop(['EVENT_TYPE', 'EVENT_DATE', 'EVENT_ID_CNTY', 'REGION', 'iso_code', 'continent', 'location', 'date'], axis=1).fillna(0)\n",
    "print(merge)\n",
    "# mergeNormal = normalize(merge)\n",
    "min_max_scaler = preprocessing.MinMaxScaler()\n",
    "\n",
    "mergeNormal = min_max_scaler.fit_transform(merge)\n",
    "mergeNormal = pd.DataFrame(mergeNormal)\n",
    "mergeNormal\n",
    "\n",
    "clf = svm.SVC()\n",
    "clf.fit(mergeNormal, issueType)\n",
    "# print(issueType)\n",
    "clf.predict(mergeNormal)\n",
    "\n",
    "\n",
    "\n",
    "\n"
   ]
  }
 ]
}