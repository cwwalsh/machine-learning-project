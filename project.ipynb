{
 "metadata": {
  "language_info": {
   "codemirror_mode": {
    "name": "ipython",
    "version": 3
   },
   "file_extension": ".py",
   "mimetype": "text/x-python",
   "name": "python",
   "nbconvert_exporter": "python",
   "pygments_lexer": "ipython3",
   "version": "3.6.9-final"
  },
  "orig_nbformat": 2,
  "kernelspec": {
   "name": "python3",
   "display_name": "Python 3"
  }
 },
 "nbformat": 4,
 "nbformat_minor": 2,
 "cells": [
  {
   "cell_type": "code",
   "execution_count": 13,
   "metadata": {},
   "outputs": [
    {
     "output_type": "stream",
     "name": "stdout",
     "text": [
      "24    0\n25    0\n26    0\n27    0\n28    0\n29    0\n30    0\n31    0\n32    0\n33    2\n34    0\n35    0\n36    0\n37    0\n38    0\n39    0\n40    0\n41    0\n42    0\n43    0\n44    1\n45    0\n46    1\n47    1\n48    0\n49    0\n50    1\n51    0\n52    2\n53    1\n54    1\n55    1\n56    3\nName: EVENT_TYPE, dtype: int64\n"
     ]
    },
    {
     "output_type": "execute_result",
     "data": {
      "text/plain": [
       "array([0, 0, 0, 0, 0, 0, 0, 0, 0, 0, 0, 0, 0, 0, 0, 0, 0, 0, 0, 0, 0, 0,\n",
       "       0, 0, 0, 0, 0, 0, 0, 1, 1, 1, 3])"
      ]
     },
     "metadata": {},
     "execution_count": 13
    }
   ],
   "source": [
    "import pandas as pd\n",
    "from sklearn import preprocessing\n",
    "from sklearn import svm\n",
    "\n",
    "def serialize(dataFrame, column):\n",
    "    return [x for x in range(len(dataFrame[column].unique()))]\n",
    "\n",
    "def replaceDict(dataFrame, column):\n",
    "    vals = serialize(dataFrame, column)\n",
    "    return dict(zip(dataFrame[column].unique(), vals))\n",
    "\n",
    "UNREST_COLUMNS = [\"EVENT_ID_CNTY\", \n",
    "                    \"EVENT_DATE\", \n",
    "                    \"EVENT_TYPE\", \n",
    "                    \"REGION\", \n",
    "                \"FATALITIES\"]\n",
    "\n",
    "CASES_COLUMNS = [\"iso_code\",\n",
    "                \"continent\",\n",
    "                \"location\", \n",
    "                \"date\", \n",
    "                \"total_cases\", \n",
    "                \"new_cases\", \n",
    "                \"total_deaths\", \n",
    "                \"reproduction_rate\", \n",
    "                \"hosp_patients\", \n",
    "                \"positive_rate\", \n",
    "                \"stringency_index\", \n",
    "                \"population\",\n",
    "                \"median_age\",\n",
    "                \"gdp_per_capita\",\n",
    "                \"life_expectancy\"\n",
    "            ]\n",
    "\n",
    "unrest_df = pd.read_csv(\"./coronavirus_Oct31.csv\")\n",
    "covid_cases_df = pd.read_csv(\"./owid-covid-data.csv\")\n",
    "\n",
    "unrest_df = unrest_df[unrest_df.columns.intersection(UNREST_COLUMNS)]\n",
    "covid_cases_df = covid_cases_df[covid_cases_df.columns.intersection(CASES_COLUMNS)]\n",
    "\n",
    "\n",
    "unrest_afg = unrest_df[unrest_df[\"EVENT_ID_CNTY\"].str.contains(\"AFG\")]\n",
    "cases_afg = covid_cases_df.query(\"iso_code == 'AFG'\")\n",
    "\n",
    "unrest_afg.EVENT_DATE = pd.to_datetime(unrest_afg.EVENT_DATE)\n",
    "cases_afg.date = pd.to_datetime(cases_afg.date)\n",
    "\n",
    "merge = unrest_afg.merge(cases_afg, how=\"inner\", left_on=\"EVENT_DATE\", right_on=\"date\")\n",
    "\n",
    "classification = serialize(unrest_df, \"EVENT_TYPE\")\n",
    "\n",
    "issueType = unrest_afg['EVENT_TYPE']\n",
    "issueType = issueType.replace(replaceDict(unrest_df, \"EVENT_TYPE\"))\n",
    "\n",
    "# print(issueType)\n",
    "\n",
    "# print(classification)\n",
    "\n",
    "# print(replaceDict(unrest_df, \"EVENT_TYPE\"))\n",
    "\n",
    "merge = merge.drop(['EVENT_TYPE', 'EVENT_DATE', 'EVENT_ID_CNTY', 'REGION', 'iso_code', 'continent', 'location', 'date'], axis=1).fillna(0)\n",
    "\n",
    "# mergeNormal = normalize(merge)\n",
    "min_max_scaler = preprocessing.MinMaxScaler()\n",
    "\n",
    "mergeNormal = min_max_scaler.fit_transform(merge)\n",
    "mergeNormal = pd.DataFrame(mergeNormal)\n",
    "mergeNormal\n",
    "\n",
    "clf = svm.SVC()\n",
    "clf.fit(mergeNormal, issueType)\n",
    "print(issueType)\n",
    "clf.predict(mergeNormal)\n",
    "\n",
    "# issueType\n",
    "\n",
    "\n",
    "\n"
   ]
  }
 ]
}